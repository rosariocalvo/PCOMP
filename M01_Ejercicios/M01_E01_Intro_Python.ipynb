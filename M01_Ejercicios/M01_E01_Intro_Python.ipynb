{
  "cells": [
    {
      "cell_type": "markdown",
      "metadata": {
        "id": "view-in-github",
        "colab_type": "text"
      },
      "source": [
        "<a href=\"https://colab.research.google.com/github/rosariocalvo/PCOMP/blob/main/M01_Ejercicios/M01_E01_Intro_Python.ipynb\" target=\"_parent\"><img src=\"https://colab.research.google.com/assets/colab-badge.svg\" alt=\"Open In Colab\"/></a>"
      ]
    },
    {
      "cell_type": "markdown",
      "metadata": {
        "id": "GHvxDkbGR3sn"
      },
      "source": [
        "# M01_E01_Intro_Python\n",
        "\n",
        "### PENSAMIENTO COMPUTACIONAL 2025-A\n",
        "\n",
        "* Prof. Ricardo Vega M. - Escuela de Diseño Universidad Católica de Chile.  \n",
        "\n",
        "* Renombrar archivo así: E02_apellido_nombre_rut, por ejemplo:\n",
        "M01_E02_PRINT_SUMAR_vega_ricardo_102349285\n",
        "\n",
        "* Renombrar el titulo asi: M01_E02_PRINT_SUMAR_apellido_nombre_rut, por ejemplo:\n",
        "M01_E02_PRINT_SUMAR_vega_ricardo_102349285\n"
      ]
    },
    {
      "cell_type": "markdown",
      "metadata": {
        "id": "vyXhNjZaR3sn"
      },
      "source": [
        "**¿Qué es Python?**.  \n",
        "\n",
        "Python es un lenguaje de programación de código abierto, es multiplataforma y de alto nivel.  \n",
        "Es gratuito y de código abierto, por lo que se puede usar y distribuir sin restricciones.   \n",
        "Es fácil de aprender y tiene una sintaxis sencilla.   \n",
        "Maneja la memoria automáticamente, y se ejecuta línea por línea facilitando la depuración de errores.  \n",
        "\n",
        "**¿En que cosas se usa Python?**.  \n",
        "Se utiliza para crear programas en diversas áreas: Desarrollo de aplicaciones web; Desarrollo de software; Ciencia de datos; Machine learning; Automatización de tareas; Análisis de datos; Aprendizaje automático; Visualización de datos; Uso de APIs, etc.   \n",
        "\n",
        "****¿Quién creó Python?**.  \n",
        "Python fue creado en 1991 por Guido van Rossum, con una filosofía hace hincapié en la legibilidad de su código. Un dato curioso es que el hermano de Guido, Just van Rosum, es un diseñador especializado en tipografía.  \n"
      ]
    },
    {
      "cell_type": "markdown",
      "metadata": {
        "id": "GqSuAzRtR3so"
      },
      "source": [
        "**¿Como fuinciona Python?**.  \n",
        "\n",
        "Los lenguajes de programación como Python, tienen una serie de funciones, o \"palabras\" clave que se usan para programar.\n",
        "\n",
        "También tiene ciertas estructuras que permiten controlar el flujo del programa. Las principales que veremos ahora son estas:   \n",
        "– Variables    \n",
        "– Decisiones, if, else, elif   \n",
        "– Ciclos   \n",
        "– Listas o Arrays   \n",
        "– Recorrer listas  \n",
        "\n"
      ]
    },
    {
      "cell_type": "markdown",
      "metadata": {
        "id": "YWFSf0F_R3so"
      },
      "source": [
        "## A– Variables   \n",
        "\n",
        "Se puede pensar en las variables como una cajita con un nombre en donde se guardan valores que se pueden usar después.\n"
      ]
    },
    {
      "cell_type": "code",
      "execution_count": 2,
      "metadata": {
        "id": "FegytdykR3so",
        "outputId": "ee5a51bf-3ff5-478f-92be-68704eea1791",
        "colab": {
          "base_uri": "https://localhost:8080/"
        }
      },
      "outputs": [
        {
          "output_type": "stream",
          "name": "stdout",
          "text": [
            "4\n",
            "5\n"
          ]
        }
      ],
      "source": [
        "a = 4\n",
        "t = '5'\n",
        "print( a )\n",
        "print( t )"
      ]
    },
    {
      "cell_type": "code",
      "execution_count": 5,
      "metadata": {
        "id": "_Pbbly4yR3so",
        "outputId": "55270b76-80c3-4221-c182-47cb72c82196",
        "colab": {
          "base_uri": "https://localhost:8080/"
        }
      },
      "outputs": [
        {
          "output_type": "stream",
          "name": "stdout",
          "text": [
            "9\n"
          ]
        }
      ],
      "source": [
        "## Se pueden hacer operaciones aritméticas.\n",
        "a = 5\n",
        "b = 4\n",
        "c = a + b\n",
        "print( c )\n"
      ]
    },
    {
      "cell_type": "code",
      "execution_count": null,
      "metadata": {
        "id": "LeuO7_hrR3so",
        "outputId": "3d2cbd3b-f223-43f0-a60c-96947c87479c"
      },
      "outputs": [
        {
          "name": "stdout",
          "output_type": "stream",
          "text": [
            "3.5\n"
          ]
        }
      ],
      "source": [
        "## Se pueden reescribir los valores de las variables\n",
        "a = 1\n",
        "c = 1.5\n",
        "c = 2.5\n",
        "print( a+c )\n"
      ]
    },
    {
      "cell_type": "code",
      "execution_count": null,
      "metadata": {
        "id": "81DfK2xnR3so",
        "outputId": "153aaeb9-1c0a-4f1f-f066-4509c72e9b3d"
      },
      "outputs": [
        {
          "name": "stdout",
          "output_type": "stream",
          "text": [
            "Hola Juan 2\n"
          ]
        }
      ],
      "source": [
        "## Se pueden guardar textos también!\n",
        "c = \"Hola\"\n",
        "n = 'Juan'\n",
        "x = 2\n",
        "print( c, n, x )\n"
      ]
    },
    {
      "cell_type": "markdown",
      "metadata": {
        "id": "wevRUrmVR3so"
      },
      "source": [
        "## B– Decisiones, if, else, elif\n",
        "Es la manera en que el computador toma desiciones, preguntando si un valor es tal o cual.\n"
      ]
    },
    {
      "cell_type": "code",
      "execution_count": null,
      "metadata": {
        "id": "Ay70wM3AR3so",
        "outputId": "34504868-4002-401e-8ecd-2ab95321909c"
      },
      "outputs": [
        {
          "name": "stdout",
          "output_type": "stream",
          "text": [
            "a NO vale 5\n"
          ]
        }
      ],
      "source": [
        "## Probar cambiando el valor de a\n",
        "a = 3\n",
        "\n",
        "if a == 5:\n",
        "    print(\"a vale 5\")\n",
        "else:\n",
        "    print(\"a NO vale 5\")\n"
      ]
    },
    {
      "cell_type": "markdown",
      "metadata": {
        "id": "QcSinaFZR3so"
      },
      "source": [
        "## C– Ciclos\n",
        "Permite repetir instrucciones según un límite.\n"
      ]
    },
    {
      "cell_type": "code",
      "execution_count": null,
      "metadata": {
        "id": "5JLePP1rR3so",
        "outputId": "a28c99ad-44e2-42e8-a346-edd44bcbeff6"
      },
      "outputs": [
        {
          "name": "stdout",
          "output_type": "stream",
          "text": [
            "i Vale:  0\n",
            "i Vale:  1\n",
            "i Vale:  2\n",
            "i Vale:  3\n",
            "i Vale:  4\n",
            "i Vale:  5\n"
          ]
        }
      ],
      "source": [
        "## Para cada elemento i, entre 0 y 6, se hace lo siguiente...\n",
        "for i in range( 6 ):\n",
        "    print( \"i Vale: \", i )\n",
        ""
      ]
    },
    {
      "cell_type": "markdown",
      "metadata": {
        "id": "rYrBnx7zR3so"
      },
      "source": [
        "## D– Listas o Arrays\n",
        "Sirve para tener una lista de muchos valores guardados con un mismo nombre.\n"
      ]
    },
    {
      "cell_type": "code",
      "execution_count": 13,
      "metadata": {
        "id": "KOEM05FCR3so",
        "outputId": "4251b4c9-6ccf-4b6e-bc47-9e369c0fa8cb",
        "colab": {
          "base_uri": "https://localhost:8080/"
        }
      },
      "outputs": [
        {
          "output_type": "stream",
          "name": "stdout",
          "text": [
            "Ana\n"
          ]
        }
      ],
      "source": [
        "## En este caso son textos que van entre comillas.\n",
        "nombres = ['Ana','Beatriz','Claudia','Diana','Elvira','Fernanda','Gabriela']\n",
        "print( nombres[ 0 ] ) ## cambiar valor entre los paréntesis cuadrados para acceder a otro nombre de la lista\n"
      ]
    },
    {
      "cell_type": "markdown",
      "metadata": {
        "id": "A6k4KRQiR3sp"
      },
      "source": [
        "## E– Recorrer listas\n",
        "Se puede recorrer una lista con un ciclo."
      ]
    },
    {
      "cell_type": "code",
      "execution_count": null,
      "metadata": {
        "id": "tPErL6D_R3sp",
        "outputId": "d4290ea7-4d1d-458c-b444-6dafeb026409"
      },
      "outputs": [
        {
          "name": "stdout",
          "output_type": "stream",
          "text": [
            "0 Ana\n",
            "1 Beatriz\n",
            "2 Claudia\n",
            "3 Diana\n",
            "4 Elvira\n",
            "5 Fernanda\n",
            "6 Gabriela\n"
          ]
        }
      ],
      "source": [
        "## Toma cada elemento n de la lista nombres\n",
        "for n in range( len(nombres) ): ## len(nombres) indica la cantidad de elementos de la lista nombres\n",
        "    print( n, nombres[ n ] )\n",
        ""
      ]
    },
    {
      "cell_type": "code",
      "execution_count": 16,
      "metadata": {
        "id": "YzPWd1IZR3sp",
        "outputId": "c6bac5ef-60d9-4c3d-caf7-24438553ef23",
        "colab": {
          "base_uri": "https://localhost:8080/"
        }
      },
      "outputs": [
        {
          "output_type": "stream",
          "name": "stdout",
          "text": [
            "Ana\n",
            "Beatriz\n",
            "Claudia\n",
            "Diana\n",
            "Elvira\n",
            "Fernanda\n",
            "Gabriela\n"
          ]
        }
      ],
      "source": [
        "## Toma cada elemento n de la lista nombres\n",
        "for n in ( nombres ): ## len(nombres) indica la cantidad de elementos de la lista nombres\n",
        "    print( n )\n",
        ""
      ]
    },
    {
      "cell_type": "code",
      "execution_count": null,
      "metadata": {
        "id": "qTYsQQ1dR3sp",
        "outputId": "510bfa34-51e8-49dc-fe1a-dd12f65ffa48"
      },
      "outputs": [
        {
          "name": "stdout",
          "output_type": "stream",
          "text": [
            "23\n",
            "18\n",
            "54\n",
            "29\n",
            "43\n",
            "41\n",
            "33\n"
          ]
        }
      ],
      "source": [
        "## Podemos tener listas de números también!\n",
        "edades = [23,18,54,29,43,41,33]\n",
        "\n",
        "for e in range( len(edades) ): ## len(nombres) indica la cantidad de elementos de la lista nombres\n",
        "    print( edades[ e ] )\n",
        ""
      ]
    },
    {
      "cell_type": "markdown",
      "metadata": {
        "id": "_RrlSbUAR3sp"
      },
      "source": [
        "## Ahora Usted:\n",
        "\n",
        "Recordar que debe crear las celdas correspondientes.\n"
      ]
    },
    {
      "cell_type": "markdown",
      "metadata": {
        "id": "ruoq8j74R3sp"
      },
      "source": [
        "## 1– Concatenar nombres (1 punto)\n",
        "\n",
        "Crear dos variables \"nomb\" y \"apell\", y guardar en ellos su nombre y apellido respectivamente. Luego concatenarlos e imprimirlos (usar print). Recordar que las palabras son strings.\n"
      ]
    },
    {
      "cell_type": "code",
      "execution_count": 10,
      "metadata": {
        "id": "-0GebOmIR3sp",
        "outputId": "66fb9a79-9642-415c-a980-2e2601a48b1b",
        "colab": {
          "base_uri": "https://localhost:8080/"
        }
      },
      "outputs": [
        {
          "output_type": "stream",
          "name": "stdout",
          "text": [
            "rosario\n",
            "calvo\n"
          ]
        }
      ],
      "source": [
        "## Su respuesta desde acá.\n",
        "\n",
        "nombr = 'rosario'\n",
        "apell = 'calvo'\n",
        "print( nombr )\n",
        "print( apell )\n"
      ]
    },
    {
      "cell_type": "markdown",
      "metadata": {
        "id": "_YTZufFmR3sp"
      },
      "source": [
        "## 2– Lista nombre amigos (1 punto)\n",
        "\n",
        "Hacer un array con 5 elementos, pueden ser nombres de sus amigos, cantantes, mascotas, lo que estime. Recorrerlo con un ciclo for mostrando con un print cada elemento (como en el ejemplo de más arriba).  \n"
      ]
    },
    {
      "cell_type": "code",
      "execution_count": 18,
      "metadata": {
        "id": "Iyl-Y7W-R3sp",
        "outputId": "45045808-b515-40b9-9577-144dca2b34d0",
        "colab": {
          "base_uri": "https://localhost:8080/"
        }
      },
      "outputs": [
        {
          "output_type": "stream",
          "name": "stdout",
          "text": [
            "0 Sofia\n",
            "1 Emilia\n",
            "2 Elisa\n",
            "3 Teresita\n",
            "4 Bernardita\n"
          ]
        }
      ],
      "source": [
        "## Su respuesta desde acá.\n",
        "nombres = ['Sofia','Emilia','Elisa','Teresita','Bernardita']\n",
        "\n",
        "for n in range( len(nombres) ):\n",
        "    print( n, nombres[ n ] )\n"
      ]
    },
    {
      "cell_type": "markdown",
      "metadata": {
        "id": "ANL8gpRuR3sp"
      },
      "source": [
        "## 3–  Lista de edades  (1 punto)\n",
        "\n",
        "Hacer un array con edades ficticias de sus amigos, cantantes, mascotas, lo que estime. Recorrerlo con un ciclo for mostrando con un print cada elemento (como en el ejemplo de más arriba).\n"
      ]
    },
    {
      "cell_type": "code",
      "execution_count": 20,
      "metadata": {
        "id": "gg_NXIX2R3sp",
        "outputId": "6585df4d-8f9d-47d3-f537-89f4b3ae2043",
        "colab": {
          "base_uri": "https://localhost:8080/"
        }
      },
      "outputs": [
        {
          "output_type": "stream",
          "name": "stdout",
          "text": [
            "20\n",
            "21\n",
            "21\n",
            "22\n",
            "23\n"
          ]
        }
      ],
      "source": [
        "## Su respuesta desde acá.\n",
        "edades = [20,21,21,22,23]\n",
        "\n",
        "for e in range( len(edades) ):\n",
        "    print( edades[ e ] )"
      ]
    },
    {
      "cell_type": "markdown",
      "metadata": {
        "id": "Z83sr3VMR3sp"
      },
      "source": [
        "## 4– Sumar numeros del RUT (1 punto)\n",
        "\n",
        "Poner los números de su RUT en una lista, sumarlos en una nueva variable, y mostrar el resultado con el mensaje \"Mi rut suma:\" XX (donde XX es el resultado de la suma)\n",
        "\n",
        "Ayuda: puede usar este código (? indica que hay un valor a reemplazar)\n",
        "\n",
        "\n",
        "rut_num = [2, 4, completar c sus numeros...]\n",
        "\n",
        "suma = 0\n",
        "for i in range( len(rut_num) ):\n",
        "    suma = suma + rut_num[?]\n",
        "\n",
        "frase = \"Mi rut suma:\"\n",
        "print( frase, ? )\n",
        ""
      ]
    },
    {
      "cell_type": "code",
      "execution_count": 25,
      "metadata": {
        "id": "mimSDon1R3sp",
        "outputId": "8e6740f7-9fed-409c-cff7-31fe95a57670",
        "colab": {
          "base_uri": "https://localhost:8080/"
        }
      },
      "outputs": [
        {
          "output_type": "stream",
          "name": "stdout",
          "text": [
            "Mi rut suma: 16\n"
          ]
        }
      ],
      "source": [
        "## Su respuesta desde acá.\n",
        "rut_num = [2, 1, 0, 3, 1, 3, 0, 6, 0 ]\n",
        "\n",
        "suma = 0\n",
        "for i in range(len(rut_num)):\n",
        "  suma = suma + rut_num[i]\n",
        "\n",
        "frase = \"Mi rut suma:\"\n",
        "print( frase, suma )"
      ]
    },
    {
      "cell_type": "markdown",
      "metadata": {
        "id": "7XBZ8ZHAR3sp"
      },
      "source": [
        "## 5– Evaluar cantidad de animalitos con if (2 punto)\n",
        "\n",
        "Completar la estructura de desición con los valores que correpondan. El resultado al imprimir debe ser este:\n",
        "\n",
        "Hay más gatitos, son: 12\n",
        "El total de animalitos es: 36\n"
      ]
    },
    {
      "cell_type": "code",
      "execution_count": 29,
      "metadata": {
        "id": "em3L_HWOR3sp",
        "outputId": "de130eaf-220d-413f-9402-4d559c50bfa3",
        "colab": {
          "base_uri": "https://localhost:8080/"
        }
      },
      "outputs": [
        {
          "output_type": "stream",
          "name": "stdout",
          "text": [
            "Hay más gatitos, son: 12\n",
            "El total de animalitos es: 36\n"
          ]
        }
      ],
      "source": [
        "## Colocar en ? el dato que corresponda.\n",
        "\n",
        "gatitos  = 12\n",
        "perritos = 24\n",
        "\n",
        "if gatitos > perritos:\n",
        "    print(\"Hay más perritos, son:\", perritos )\n",
        "else:\n",
        "    print(\"Hay más gatitos, son:\", gatitos)\n",
        "\n",
        "\n",
        "# sumar cantidad de animalitos\n",
        "mensaje = \"El total de animalitos es:\"\n",
        "tot = gatitos + perritos\n",
        "\n",
        "print(mensaje, tot)\n",
        ""
      ]
    },
    {
      "cell_type": "code",
      "execution_count": null,
      "metadata": {
        "id": "yGkM6PrjR3sp"
      },
      "outputs": [],
      "source": []
    }
  ],
  "metadata": {
    "kernelspec": {
      "display_name": "Python 3 (ipykernel)",
      "language": "python",
      "name": "python3"
    },
    "language_info": {
      "codemirror_mode": {
        "name": "ipython",
        "version": 3
      },
      "file_extension": ".py",
      "mimetype": "text/x-python",
      "name": "python",
      "nbconvert_exporter": "python",
      "pygments_lexer": "ipython3",
      "version": "3.9.13"
    },
    "colab": {
      "provenance": [],
      "include_colab_link": true
    }
  },
  "nbformat": 4,
  "nbformat_minor": 0
}